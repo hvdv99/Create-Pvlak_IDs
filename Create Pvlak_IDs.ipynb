{
 "cells": [
  {
   "cell_type": "code",
   "execution_count": 17,
   "id": "732c1fe1",
   "metadata": {},
   "outputs": [],
   "source": [
    "from simpledbf import Dbf5\n",
    "import os\n",
    "import pandas as pd\n",
    "import numpy as np"
   ]
  },
  {
   "cell_type": "code",
   "execution_count": 18,
   "id": "3300d6f3",
   "metadata": {},
   "outputs": [],
   "source": [
    "# define path and the name of the file in these two variables\n",
    "path = r'W:\\NL5400 TIM\\Projecten\\.RW-RD 1002224 Tellingen Rdam\\Projecten\\Parkeren\\Projecten\\1004123 RW-RD Liskwartier & Oude Noorden Rotterdam\\GIS\\Shapefiles'\n",
    "filename = 'Parkeervlakken_Liskwartier_Rotterdam.dbf'\n",
    "\n",
    "# define the destition for the output in this variable\n",
    "output_dest = r'C:\\Users\\Huub.vandeVoort\\Downloads'\n",
    "\n",
    "# define the name of the output file here:\n",
    "output_name = 'Pvlak_IDs_Liskwartier'\n",
    "\n",
    "os.chdir(path)"
   ]
  },
  {
   "cell_type": "code",
   "execution_count": 19,
   "id": "f712b11c",
   "metadata": {},
   "outputs": [],
   "source": [
    "# loading the data from DBF\n",
    "my_dbf = Dbf5(filename)\n",
    "pvlakken = my_dbf.to_dataframe()"
   ]
  },
  {
   "cell_type": "code",
   "execution_count": 28,
   "id": "5a580fc0",
   "metadata": {},
   "outputs": [],
   "source": [
    "# creating a dict \n",
    "#     with keys: the sbtdl name \n",
    "#     with values: the number of times Sbtdl appears in the data\n",
    "sbtdl_code_counts = pvlakken['Sbtdl_code'].value_counts()\n",
    "sbtdl_index = {}\n",
    "for i in sbtdl_code_counts.index:\n",
    "    sbtdl_index[i] = sbtdl_code_counts.loc[i]"
   ]
  },
  {
   "cell_type": "code",
   "execution_count": 23,
   "id": "8eacbcc5",
   "metadata": {},
   "outputs": [],
   "source": [
    "# function that gives returns ID number for each pvlak within the Sbtdl\n",
    "def gen_pvlak_id(a_sbtdl):\n",
    "    global sbtdl_index\n",
    "    a_sbtdl_unscore = a_sbtdl.replace('.','_')\n",
    "    pvlak_num = sbtdl_index[a_sbtdl]\n",
    "    sbtdl_index[a_sbtdl] -= 1\n",
    "    return a_sbtdl_unscore + '_pv_' + str(pvlak_num)"
   ]
  },
  {
   "cell_type": "code",
   "execution_count": 24,
   "id": "3056c6c2",
   "metadata": {},
   "outputs": [
    {
     "name": "stderr",
     "output_type": "stream",
     "text": [
      "C:\\Users\\Huub.vandeVoort\\AppData\\Local\\Temp\\ipykernel_3876\\3965765738.py:3: SettingWithCopyWarning: \n",
      "A value is trying to be set on a copy of a slice from a DataFrame.\n",
      "Try using .loc[row_indexer,col_indexer] = value instead\n",
      "\n",
      "See the caveats in the documentation: https://pandas.pydata.org/pandas-docs/stable/user_guide/indexing.html#returning-a-view-versus-a-copy\n",
      "  result['Pvlak_ID'] = result['Sbtdl_code'].apply(lambda x: gen_pvlak_id(x))\n"
     ]
    }
   ],
   "source": [
    "# creating a new df with the new Pvlak_IDs\n",
    "result = pvlakken[['Pvlak_ID', 'Sbtdl_code']]\n",
    "result['Pvlak_ID'] = result['Sbtdl_code'].apply(lambda x: gen_pvlak_id(x))"
   ]
  },
  {
   "cell_type": "code",
   "execution_count": 26,
   "id": "71c992b9",
   "metadata": {},
   "outputs": [],
   "source": [
    "os.chdir(output_dest)\n",
    "result.to_csv(output_name + '.csv', sep=',' , index=False, mode='w')"
   ]
  }
 ],
 "metadata": {
  "kernelspec": {
   "display_name": "Python 3 (ipykernel)",
   "language": "python",
   "name": "python3"
  },
  "language_info": {
   "codemirror_mode": {
    "name": "ipython",
    "version": 3
   },
   "file_extension": ".py",
   "mimetype": "text/x-python",
   "name": "python",
   "nbconvert_exporter": "python",
   "pygments_lexer": "ipython3",
   "version": "3.9.13"
  }
 },
 "nbformat": 4,
 "nbformat_minor": 5
}
